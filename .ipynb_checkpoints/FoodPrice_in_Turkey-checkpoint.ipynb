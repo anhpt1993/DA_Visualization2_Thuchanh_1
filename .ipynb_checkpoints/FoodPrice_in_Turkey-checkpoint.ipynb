{
 "cells": [
  {
   "cell_type": "markdown",
   "id": "c0b540ae-46ee-4192-9960-4f8952de960e",
   "metadata": {},
   "source": [
    "# 0. Khai báo các thư viện cần thiết"
   ]
  },
  {
   "cell_type": "code",
   "execution_count": 1,
   "id": "36331f18-cbc6-43e9-995b-b5a77e74986a",
   "metadata": {},
   "outputs": [],
   "source": [
    "import pandas as pd\n",
    "import numpy as np\n",
    "import matplotlib.pyplot as plt"
   ]
  },
  {
   "cell_type": "markdown",
   "id": "bdac58e2-2bfe-4411-83b0-41a41315c136",
   "metadata": {},
   "source": [
    "# 1. Đọc file CSV"
   ]
  },
  {
   "cell_type": "code",
   "execution_count": 2,
   "id": "4dadd14d-7c62-4d89-82e9-f9b645c28179",
   "metadata": {},
   "outputs": [
    {
     "data": {
      "text/html": [
       "<div>\n",
       "<style scoped>\n",
       "    .dataframe tbody tr th:only-of-type {\n",
       "        vertical-align: middle;\n",
       "    }\n",
       "\n",
       "    .dataframe tbody tr th {\n",
       "        vertical-align: top;\n",
       "    }\n",
       "\n",
       "    .dataframe thead th {\n",
       "        text-align: right;\n",
       "    }\n",
       "</style>\n",
       "<table border=\"1\" class=\"dataframe\">\n",
       "  <thead>\n",
       "    <tr style=\"text-align: right;\">\n",
       "      <th></th>\n",
       "      <th>Place</th>\n",
       "      <th>ProductId</th>\n",
       "      <th>ProductName</th>\n",
       "      <th>UmId</th>\n",
       "      <th>UmName</th>\n",
       "      <th>Month</th>\n",
       "      <th>Year</th>\n",
       "      <th>Price</th>\n",
       "    </tr>\n",
       "  </thead>\n",
       "  <tbody>\n",
       "    <tr>\n",
       "      <th>0</th>\n",
       "      <td>National Average</td>\n",
       "      <td>52</td>\n",
       "      <td>Rice - Retail</td>\n",
       "      <td>5</td>\n",
       "      <td>KG</td>\n",
       "      <td>5</td>\n",
       "      <td>2013</td>\n",
       "      <td>4.4920</td>\n",
       "    </tr>\n",
       "    <tr>\n",
       "      <th>1</th>\n",
       "      <td>National Average</td>\n",
       "      <td>52</td>\n",
       "      <td>Rice - Retail</td>\n",
       "      <td>5</td>\n",
       "      <td>KG</td>\n",
       "      <td>6</td>\n",
       "      <td>2013</td>\n",
       "      <td>4.5786</td>\n",
       "    </tr>\n",
       "    <tr>\n",
       "      <th>2</th>\n",
       "      <td>National Average</td>\n",
       "      <td>52</td>\n",
       "      <td>Rice - Retail</td>\n",
       "      <td>5</td>\n",
       "      <td>KG</td>\n",
       "      <td>11</td>\n",
       "      <td>2013</td>\n",
       "      <td>4.7865</td>\n",
       "    </tr>\n",
       "    <tr>\n",
       "      <th>3</th>\n",
       "      <td>National Average</td>\n",
       "      <td>52</td>\n",
       "      <td>Rice - Retail</td>\n",
       "      <td>5</td>\n",
       "      <td>KG</td>\n",
       "      <td>12</td>\n",
       "      <td>2013</td>\n",
       "      <td>5.1337</td>\n",
       "    </tr>\n",
       "    <tr>\n",
       "      <th>4</th>\n",
       "      <td>National Average</td>\n",
       "      <td>52</td>\n",
       "      <td>Rice - Retail</td>\n",
       "      <td>5</td>\n",
       "      <td>KG</td>\n",
       "      <td>1</td>\n",
       "      <td>2014</td>\n",
       "      <td>5.5099</td>\n",
       "    </tr>\n",
       "  </tbody>\n",
       "</table>\n",
       "</div>"
      ],
      "text/plain": [
       "              Place  ProductId    ProductName  UmId UmName  Month  Year  \\\n",
       "0  National Average         52  Rice - Retail     5     KG      5  2013   \n",
       "1  National Average         52  Rice - Retail     5     KG      6  2013   \n",
       "2  National Average         52  Rice - Retail     5     KG     11  2013   \n",
       "3  National Average         52  Rice - Retail     5     KG     12  2013   \n",
       "4  National Average         52  Rice - Retail     5     KG      1  2014   \n",
       "\n",
       "    Price  \n",
       "0  4.4920  \n",
       "1  4.5786  \n",
       "2  4.7865  \n",
       "3  5.1337  \n",
       "4  5.5099  "
      ]
     },
     "execution_count": 2,
     "metadata": {},
     "output_type": "execute_result"
    }
   ],
   "source": [
    "df = pd.read_csv(\"https://s3.ap-southeast-1.amazonaws.com/learn.codegym.vn/media/public/2021/12/31021019/FoodPrice_in_Turkey.csv\", encoding = \"ISO-8859-1\")\n",
    "df.head()"
   ]
  },
  {
   "cell_type": "code",
   "execution_count": 3,
   "id": "526363f8-2b24-434d-96d7-9c0ac6720a29",
   "metadata": {},
   "outputs": [
    {
     "name": "stdout",
     "output_type": "stream",
     "text": [
      "<class 'pandas.core.frame.DataFrame'>\n",
      "RangeIndex: 7381 entries, 0 to 7380\n",
      "Data columns (total 8 columns):\n",
      " #   Column       Non-Null Count  Dtype  \n",
      "---  ------       --------------  -----  \n",
      " 0   Place        7381 non-null   object \n",
      " 1   ProductId    7381 non-null   int64  \n",
      " 2   ProductName  7381 non-null   object \n",
      " 3   UmId         7381 non-null   int64  \n",
      " 4   UmName       7381 non-null   object \n",
      " 5   Month        7381 non-null   int64  \n",
      " 6   Year         7381 non-null   int64  \n",
      " 7   Price        7381 non-null   float64\n",
      "dtypes: float64(1), int64(4), object(3)\n",
      "memory usage: 461.4+ KB\n"
     ]
    }
   ],
   "source": [
    "df.info()"
   ]
  },
  {
   "cell_type": "code",
   "execution_count": 4,
   "id": "f82306a7-e66a-46a4-928b-de3e67bfe316",
   "metadata": {},
   "outputs": [
    {
     "data": {
      "text/html": [
       "<div>\n",
       "<style scoped>\n",
       "    .dataframe tbody tr th:only-of-type {\n",
       "        vertical-align: middle;\n",
       "    }\n",
       "\n",
       "    .dataframe tbody tr th {\n",
       "        vertical-align: top;\n",
       "    }\n",
       "\n",
       "    .dataframe thead th {\n",
       "        text-align: right;\n",
       "    }\n",
       "</style>\n",
       "<table border=\"1\" class=\"dataframe\">\n",
       "  <thead>\n",
       "    <tr style=\"text-align: right;\">\n",
       "      <th></th>\n",
       "      <th>ProductId</th>\n",
       "      <th>UmId</th>\n",
       "      <th>Month</th>\n",
       "      <th>Year</th>\n",
       "      <th>Price</th>\n",
       "    </tr>\n",
       "  </thead>\n",
       "  <tbody>\n",
       "    <tr>\n",
       "      <th>count</th>\n",
       "      <td>7381.000000</td>\n",
       "      <td>7381.000000</td>\n",
       "      <td>7381.000000</td>\n",
       "      <td>7381.000000</td>\n",
       "      <td>7381.000000</td>\n",
       "    </tr>\n",
       "    <tr>\n",
       "      <th>mean</th>\n",
       "      <td>254.509687</td>\n",
       "      <td>15.252811</td>\n",
       "      <td>6.479881</td>\n",
       "      <td>2017.458474</td>\n",
       "      <td>15.738709</td>\n",
       "    </tr>\n",
       "    <tr>\n",
       "      <th>std</th>\n",
       "      <td>141.008599</td>\n",
       "      <td>25.276665</td>\n",
       "      <td>3.530361</td>\n",
       "      <td>1.499256</td>\n",
       "      <td>22.418284</td>\n",
       "    </tr>\n",
       "    <tr>\n",
       "      <th>min</th>\n",
       "      <td>52.000000</td>\n",
       "      <td>5.000000</td>\n",
       "      <td>1.000000</td>\n",
       "      <td>2013.000000</td>\n",
       "      <td>0.253900</td>\n",
       "    </tr>\n",
       "    <tr>\n",
       "      <th>25%</th>\n",
       "      <td>114.000000</td>\n",
       "      <td>5.000000</td>\n",
       "      <td>3.000000</td>\n",
       "      <td>2017.000000</td>\n",
       "      <td>3.223600</td>\n",
       "    </tr>\n",
       "    <tr>\n",
       "      <th>50%</th>\n",
       "      <td>239.000000</td>\n",
       "      <td>5.000000</td>\n",
       "      <td>6.000000</td>\n",
       "      <td>2018.000000</td>\n",
       "      <td>5.909600</td>\n",
       "    </tr>\n",
       "    <tr>\n",
       "      <th>75%</th>\n",
       "      <td>388.000000</td>\n",
       "      <td>5.000000</td>\n",
       "      <td>10.000000</td>\n",
       "      <td>2019.000000</td>\n",
       "      <td>20.441900</td>\n",
       "    </tr>\n",
       "    <tr>\n",
       "      <th>max</th>\n",
       "      <td>502.000000</td>\n",
       "      <td>102.000000</td>\n",
       "      <td>12.000000</td>\n",
       "      <td>2019.000000</td>\n",
       "      <td>159.445800</td>\n",
       "    </tr>\n",
       "  </tbody>\n",
       "</table>\n",
       "</div>"
      ],
      "text/plain": [
       "         ProductId         UmId        Month         Year        Price\n",
       "count  7381.000000  7381.000000  7381.000000  7381.000000  7381.000000\n",
       "mean    254.509687    15.252811     6.479881  2017.458474    15.738709\n",
       "std     141.008599    25.276665     3.530361     1.499256    22.418284\n",
       "min      52.000000     5.000000     1.000000  2013.000000     0.253900\n",
       "25%     114.000000     5.000000     3.000000  2017.000000     3.223600\n",
       "50%     239.000000     5.000000     6.000000  2018.000000     5.909600\n",
       "75%     388.000000     5.000000    10.000000  2019.000000    20.441900\n",
       "max     502.000000   102.000000    12.000000  2019.000000   159.445800"
      ]
     },
     "execution_count": 4,
     "metadata": {},
     "output_type": "execute_result"
    }
   ],
   "source": [
    "df.describe()"
   ]
  },
  {
   "cell_type": "markdown",
   "id": "9c3c1967-11ee-418a-ad3c-82db59aba571",
   "metadata": {},
   "source": [
    "# 2. Mục tiêu\n",
    "- Vẽ các biểu đồ cột so sánh giá Milk (powder, infant formula) và Fuel (gas) tháng 12 cuối năm năm 2019 của Ankara, Istanbul, Izmir và National Average\n",
    "- Vẽ các biểu đồ đường phân tích xu hướng giá gạo (Rice-Retail), giá Fuel (gas) trung bình cả nước (National Average) trong năm 2016, 2018, 2019 tại Thổ Nhĩ Kì\n",
    "- Vẽ biểu đồ Scatter phân tích mối liên quan giữa giá gạo và giá gas trung bình quốc gia (National Average) tại Thổ Nhĩ Kì các năm 2016, 2018, 2019"
   ]
  },
  {
   "cell_type": "markdown",
   "id": "05ca2c40-84cc-4175-a5f4-61410ac67b26",
   "metadata": {},
   "source": [
    "+) 2.1. Vẽ các biểu đồ cột so sánh giá Milk (powder, infant formula) và Fuel (gas) tháng 12 cuối năm 2019 của Ankara, Istanbul, Izmir và National Average"
   ]
  },
  {
   "cell_type": "code",
   "execution_count": 5,
   "id": "f694487c-9b51-4cab-a486-5844677d674e",
   "metadata": {},
   "outputs": [
    {
     "data": {
      "text/plain": [
       "array(['Rice - Retail', 'Wheat flour - Retail', 'Beans (white) - Retail',\n",
       "       'Potatoes - Retail', 'Eggs - Retail', 'Meat (chicken) - Retail',\n",
       "       'Sugar - Retail', 'Garlic - Retail', 'Lentils - Retail',\n",
       "       'Pasta - Retail', 'Tomatoes - Retail',\n",
       "       'Groundnuts (shelled) - Retail', 'Bread (common) - Retail',\n",
       "       'Coffee - Retail', 'Onions - Retail', 'Tea (green) - Retail',\n",
       "       'Cabbage - Retail', 'Meat (mutton) - Retail',\n",
       "       'Oil (sunflower) - Retail', 'Salt - Retail',\n",
       "       'Coffee (instant) - Retail', 'Peas (green, dry) - Retail',\n",
       "       'Apples (red) - Retail', 'Cauliflower - Retail',\n",
       "       'Cucumbers (greenhouse) - Retail', 'Oil (olive) - Retail',\n",
       "       'Chickpeas - Retail', 'Bananas - Retail', 'Bulgur - Retail',\n",
       "       'Tea - Retail', 'Fuel (petrol-gasoline) - Retail',\n",
       "       'Transport (public) - Retail', 'Tomatoes (paste) - Retail',\n",
       "       'Fuel (gas) - Retail', 'Apples - Retail', 'Oranges - Retail',\n",
       "       'Yogurt - Retail', 'Bread (pita) - Retail', 'Cucumbers - Retail',\n",
       "       'Fish (fresh) - Retail', 'Spinach - Retail', 'Cheese - Retail',\n",
       "       'Meat (veal) - Retail', 'Eggplants - Retail',\n",
       "       'Milk (powder, infant formula) - Retail', 'Zucchini - Retail',\n",
       "       'Milk (pasteurized) - Retail',\n",
       "       'Wage (non-qualified labour, non-agricultural) - Retail',\n",
       "       'Electricity - Retail', 'Tea (herbal) - Retail', 'Water - Retail',\n",
       "       'Cocoa (powder) - Retail'], dtype=object)"
      ]
     },
     "execution_count": 5,
     "metadata": {},
     "output_type": "execute_result"
    }
   ],
   "source": [
    "df.ProductName.unique()"
   ]
  },
  {
   "cell_type": "code",
   "execution_count": 6,
   "id": "34aa5220-c365-44ca-8abf-f3d8fb7969a1",
   "metadata": {},
   "outputs": [
    {
     "data": {
      "text/plain": [
       "array(['National Average', 'Ankara', 'Istanbul', 'Izmir'], dtype=object)"
      ]
     },
     "execution_count": 6,
     "metadata": {},
     "output_type": "execute_result"
    }
   ],
   "source": [
    "df.Place.unique()"
   ]
  },
  {
   "cell_type": "code",
   "execution_count": 7,
   "id": "3e078be2-bf9e-4c88-bea6-9d99dba2828f",
   "metadata": {},
   "outputs": [],
   "source": [
    "# Lọc ra giá Milk (powder, infant formular), tháng 12 cuối năm 2019 của Ankara, Istabul, Izmir và National Average\n",
    "condition_1 = (df.ProductName == \"Milk (powder, infant formula) - Retail\") & (df.Month == 12) & (df.Year == 2019)\n",
    "df1 = df[condition_1]\n",
    "df1.reset_index(inplace = True)"
   ]
  },
  {
   "cell_type": "code",
   "execution_count": 8,
   "id": "0f3bb4f0-ddd4-439c-a5fe-3affb255c6d3",
   "metadata": {},
   "outputs": [],
   "source": [
    "# Lọc ra giá Fuel (gas), tháng 12 cuối năm 2019 của Ankara, Istabul, Izmir và National Average\n",
    "condition_2 = (df.ProductName == \"Fuel (gas) - Retail\") & (df.Month == 12) & (df.Year == 2019)\n",
    "df2 = df[condition_2]\n",
    "df2.reset_index(inplace = True)"
   ]
  },
  {
   "cell_type": "code",
   "execution_count": 9,
   "id": "ef68587f-bd60-4bce-87f7-2d4da5e2e8f3",
   "metadata": {},
   "outputs": [],
   "source": [
    "# Đưa ra dữ liệu cần thiết\n",
    "data_1 = pd.DataFrame({\"x\": df1.Place,\n",
    "                      \"y1\": df1.Price,\n",
    "                      \"y2\": df2.Price})"
   ]
  },
  {
   "cell_type": "code",
   "execution_count": 12,
   "id": "e1b4774a-17a8-430c-a54c-538d5f77bea4",
   "metadata": {},
   "outputs": [
    {
     "data": {
      "text/plain": [
       "<Figure size 1800x800 with 0 Axes>"
      ]
     },
     "metadata": {},
     "output_type": "display_data"
    },
    {
     "data": {
      "image/png": "[encoded data removed]",
      "text/plain": [
       "<Figure size 432x288 with 1 Axes>"
      ]
     },
     "metadata": {
      "needs_background": "light"
     },
     "output_type": "display_data"
    }
   ],
   "source": [
    "# Vẽ biểu đồ\n",
    "plt.figure(figsize = (18,8), dpi = 100)\n",
    "data_1.plot(x = \"x\", y = [\"y1\", \"y2\"], kind = \"bar\")\n",
    "plt.title(\"Giá sữa và gas tháng 12/2019\", fontsize = 20)\n",
    "plt.xlabel(\"Địa điểm\", fontsize = 14)\n",
    "plt.ylabel(\"Price\", fontsize = 14)\n",
    "plt.legend()\n",
    "plt.show()"
   ]
  },
  {
   "cell_type": "markdown",
   "id": "d23d1cfd-023b-43d0-802f-9bd41737da8e",
   "metadata": {},
   "source": [
    "2.2. Lấy ra giá gạo và giá gas trong năm 2016, 2018 và 2019 trung bình quốc gia"
   ]
  },
  {
   "cell_type": "code",
   "execution_count": 13,
   "id": "c0c84382-2c2d-4fab-819c-bf9d5148b603",
   "metadata": {},
   "outputs": [
    {
     "name": "stdout",
     "output_type": "stream",
     "text": [
      "<class 'pandas.core.frame.DataFrame'>\n",
      "RangeIndex: 7381 entries, 0 to 7380\n",
      "Data columns (total 8 columns):\n",
      " #   Column       Non-Null Count  Dtype  \n",
      "---  ------       --------------  -----  \n",
      " 0   Place        7381 non-null   object \n",
      " 1   ProductId    7381 non-null   int64  \n",
      " 2   ProductName  7381 non-null   object \n",
      " 3   UmId         7381 non-null   int64  \n",
      " 4   UmName       7381 non-null   object \n",
      " 5   Month        7381 non-null   int64  \n",
      " 6   Year         7381 non-null   int64  \n",
      " 7   Price        7381 non-null   float64\n",
      "dtypes: float64(1), int64(4), object(3)\n",
      "memory usage: 461.4+ KB\n"
     ]
    }
   ],
   "source": [
    "df.info()"
   ]
  },
  {
   "cell_type": "code",
   "execution_count": 14,
   "id": "96645aab-b5de-423e-8d8f-c641c66ba371",
   "metadata": {},
   "outputs": [
    {
     "data": {
      "text/plain": [
       "array(['Rice - Retail', 'Wheat flour - Retail', 'Beans (white) - Retail',\n",
       "       'Potatoes - Retail', 'Eggs - Retail', 'Meat (chicken) - Retail',\n",
       "       'Sugar - Retail', 'Garlic - Retail', 'Lentils - Retail',\n",
       "       'Pasta - Retail', 'Tomatoes - Retail',\n",
       "       'Groundnuts (shelled) - Retail', 'Bread (common) - Retail',\n",
       "       'Coffee - Retail', 'Onions - Retail', 'Tea (green) - Retail',\n",
       "       'Cabbage - Retail', 'Meat (mutton) - Retail',\n",
       "       'Oil (sunflower) - Retail', 'Salt - Retail',\n",
       "       'Coffee (instant) - Retail', 'Peas (green, dry) - Retail',\n",
       "       'Apples (red) - Retail', 'Cauliflower - Retail',\n",
       "       'Cucumbers (greenhouse) - Retail', 'Oil (olive) - Retail',\n",
       "       'Chickpeas - Retail', 'Bananas - Retail', 'Bulgur - Retail',\n",
       "       'Tea - Retail', 'Fuel (petrol-gasoline) - Retail',\n",
       "       'Transport (public) - Retail', 'Tomatoes (paste) - Retail',\n",
       "       'Fuel (gas) - Retail', 'Apples - Retail', 'Oranges - Retail',\n",
       "       'Yogurt - Retail', 'Bread (pita) - Retail', 'Cucumbers - Retail',\n",
       "       'Fish (fresh) - Retail', 'Spinach - Retail', 'Cheese - Retail',\n",
       "       'Meat (veal) - Retail', 'Eggplants - Retail',\n",
       "       'Milk (powder, infant formula) - Retail', 'Zucchini - Retail',\n",
       "       'Milk (pasteurized) - Retail',\n",
       "       'Wage (non-qualified labour, non-agricultural) - Retail',\n",
       "       'Electricity - Retail', 'Tea (herbal) - Retail', 'Water - Retail',\n",
       "       'Cocoa (powder) - Retail'], dtype=object)"
      ]
     },
     "execution_count": 14,
     "metadata": {},
     "output_type": "execute_result"
    }
   ],
   "source": [
    "df.ProductName.unique()"
   ]
  }
 ],
 "metadata": {
  "kernelspec": {
   "display_name": "Python 3 (ipykernel)",
   "language": "python",
   "name": "python3"
  },
  "language_info": {
   "codemirror_mode": {
    "name": "ipython",
    "version": 3
   },
   "file_extension": ".py",
   "mimetype": "text/x-python",
   "name": "python",
   "nbconvert_exporter": "python",
   "pygments_lexer": "ipython3",
   "version": "3.10.1"
  }
 },
 "nbformat": 4,
 "nbformat_minor": 5
}
