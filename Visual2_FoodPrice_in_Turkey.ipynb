{
  "nbformat": 4,
  "nbformat_minor": 0,
  "metadata": {
    "colab": {
      "name": "Visual2_FoodPrice_in_Turkey.ipynb",
      "provenance": [],
      "collapsed_sections": []
    },
    "kernelspec": {
      "name": "python3",
      "display_name": "Python 3"
    },
    "language_info": {
      "name": "python"
    }
  },
  "cells": [
    {
      "cell_type": "markdown",
      "source": [
        "Vẽ các biểu đồ cột so sánh giá Milk (powder, infant formula) và Fuel (gas) tháng 12 cuối năm năm 2019 của Ankara, Istanbul, Izmir và National Average. </br>\n",
        "Vẽ các biểu đồ đường phân tích xu hướng giá gạo (Rice-Retail), giá Fuel (gas) trung bình cả nước (National Average) trong năm 2016, 2018, 2019 tại Thổ Nhĩ Kì. </br>\n",
        "Vẽ biểu đồ Scatter phân tích mối liên quan giữa giá gạo và giá gas trung bình quốc gia (National Average) tại Thổ Nhĩ Kì các năm 2016, 2018, 2019."
      ],
      "metadata": {
        "id": "4Po7q0Eowtpk"
      }
    },
    {
      "cell_type": "markdown",
      "source": [
        "# 0. Khai báo các thư viện cần dùng"
      ],
      "metadata": {
        "id": "Cwz3Onvkv_Nv"
      }
    },
    {
      "cell_type": "code",
      "execution_count": null,
      "metadata": {
        "id": "xEkGuUu5vshd"
      },
      "outputs": [],
      "source": [
        "import pandas as pd\n",
        "import numpy as np\n",
        "import matplotlib.pyplot as plt"
      ]
    },
    {
      "cell_type": "markdown",
      "source": [
        "# 1. Đọc dữ liệu từ file CSV"
      ],
      "metadata": {
        "id": "1ppWQHAAv89y"
      }
    },
    {
      "cell_type": "code",
      "source": [
        "df = pd.read_csv(\"https://s3.ap-southeast-1.amazonaws.com/learn.codegym.vn/media/public/2021/12/31021019/FoodPrice_in_Turkey.csv\", encoding = \"ISO-8859-1\")\n",
        "df.head()"
      ],
      "metadata": {
        "colab": {
          "base_uri": "https://localhost:8080/",
          "height": 206
        },
        "id": "1FTIBdYUwZ5X",
        "outputId": "63260580-bc10-474f-a9cf-98b9b327936a"
      },
      "execution_count": null,
      "outputs": [
        {
          "output_type": "execute_result",
          "data": {
            "text/html": [
              "\n",
              "  <div id=\"df-1e064677-f3bb-4824-864b-c483335a214d\">\n",
              "    <div class=\"colab-df-container\">\n",
              "      <div>\n",
              "<style scoped>\n",
              "    .dataframe tbody tr th:only-of-type {\n",
              "        vertical-align: middle;\n",
              "    }\n",
              "\n",
              "    .dataframe tbody tr th {\n",
              "        vertical-align: top;\n",
              "    }\n",
              "\n",
              "    .dataframe thead th {\n",
              "        text-align: right;\n",
              "    }\n",
              "</style>\n",
              "<table border=\"1\" class=\"dataframe\">\n",
              "  <thead>\n",
              "    <tr style=\"text-align: right;\">\n",
              "      <th></th>\n",
              "      <th>Place</th>\n",
              "      <th>ProductId</th>\n",
              "      <th>ProductName</th>\n",
              "      <th>UmId</th>\n",
              "      <th>UmName</th>\n",
              "      <th>Month</th>\n",
              "      <th>Year</th>\n",
              "      <th>Price</th>\n",
              "    </tr>\n",
              "  </thead>\n",
              "  <tbody>\n",
              "    <tr>\n",
              "      <th>0</th>\n",
              "      <td>National Average</td>\n",
              "      <td>52</td>\n",
              "      <td>Rice - Retail</td>\n",
              "      <td>5</td>\n",
              "      <td>KG</td>\n",
              "      <td>5</td>\n",
              "      <td>2013</td>\n",
              "      <td>4.4920</td>\n",
              "    </tr>\n",
              "    <tr>\n",
              "      <th>1</th>\n",
              "      <td>National Average</td>\n",
              "      <td>52</td>\n",
              "      <td>Rice - Retail</td>\n",
              "      <td>5</td>\n",
              "      <td>KG</td>\n",
              "      <td>6</td>\n",
              "      <td>2013</td>\n",
              "      <td>4.5786</td>\n",
              "    </tr>\n",
              "    <tr>\n",
              "      <th>2</th>\n",
              "      <td>National Average</td>\n",
              "      <td>52</td>\n",
              "      <td>Rice - Retail</td>\n",
              "      <td>5</td>\n",
              "      <td>KG</td>\n",
              "      <td>11</td>\n",
              "      <td>2013</td>\n",
              "      <td>4.7865</td>\n",
              "    </tr>\n",
              "    <tr>\n",
              "      <th>3</th>\n",
              "      <td>National Average</td>\n",
              "      <td>52</td>\n",
              "      <td>Rice - Retail</td>\n",
              "      <td>5</td>\n",
              "      <td>KG</td>\n",
              "      <td>12</td>\n",
              "      <td>2013</td>\n",
              "      <td>5.1337</td>\n",
              "    </tr>\n",
              "    <tr>\n",
              "      <th>4</th>\n",
              "      <td>National Average</td>\n",
              "      <td>52</td>\n",
              "      <td>Rice - Retail</td>\n",
              "      <td>5</td>\n",
              "      <td>KG</td>\n",
              "      <td>1</td>\n",
              "      <td>2014</td>\n",
              "      <td>5.5099</td>\n",
              "    </tr>\n",
              "  </tbody>\n",
              "</table>\n",
              "</div>\n",
              "      <button class=\"colab-df-convert\" onclick=\"convertToInteractive('df-1e064677-f3bb-4824-864b-c483335a214d')\"\n",
              "              title=\"Convert this dataframe to an interactive table.\"\n",
              "              style=\"display:none;\">\n",
              "        \n",
              "  <svg xmlns=\"http://www.w3.org/2000/svg\" height=\"24px\"viewBox=\"0 0 24 24\"\n",
              "       width=\"24px\">\n",
              "    <path d=\"M0 0h24v24H0V0z\" fill=\"none\"/>\n",
              "    <path d=\"M18.56 5.44l.94 2.06.94-2.06 2.06-.94-2.06-.94-.94-2.06-.94 2.06-2.06.94zm-11 1L8.5 8.5l.94-2.06 2.06-.94-2.06-.94L8.5 2.5l-.94 2.06-2.06.94zm10 10l.94 2.06.94-2.06 2.06-.94-2.06-.94-.94-2.06-.94 2.06-2.06.94z\"/><path d=\"M17.41 7.96l-1.37-1.37c-.4-.4-.92-.59-1.43-.59-.52 0-1.04.2-1.43.59L10.3 9.45l-7.72 7.72c-.78.78-.78 2.05 0 2.83L4 21.41c.39.39.9.59 1.41.59.51 0 1.02-.2 1.41-.59l7.78-7.78 2.81-2.81c.8-.78.8-2.07 0-2.86zM5.41 20L4 18.59l7.72-7.72 1.47 1.35L5.41 20z\"/>\n",
              "  </svg>\n",
              "      </button>\n",
              "      \n",
              "  <style>\n",
              "    .colab-df-container {\n",
              "      display:flex;\n",
              "      flex-wrap:wrap;\n",
              "      gap: 12px;\n",
              "    }\n",
              "\n",
              "    .colab-df-convert {\n",
              "      background-color: #E8F0FE;\n",
              "      border: none;\n",
              "      border-radius: 50%;\n",
              "      cursor: pointer;\n",
              "      display: none;\n",
              "      fill: #1967D2;\n",
              "      height: 32px;\n",
              "      padding: 0 0 0 0;\n",
              "      width: 32px;\n",
              "    }\n",
              "\n",
              "    .colab-df-convert:hover {\n",
              "      background-color: #E2EBFA;\n",
              "      box-shadow: 0px 1px 2px rgba(60, 64, 67, 0.3), 0px 1px 3px 1px rgba(60, 64, 67, 0.15);\n",
              "      fill: #174EA6;\n",
              "    }\n",
              "\n",
              "    [theme=dark] .colab-df-convert {\n",
              "      background-color: #3B4455;\n",
              "      fill: #D2E3FC;\n",
              "    }\n",
              "\n",
              "    [theme=dark] .colab-df-convert:hover {\n",
              "      background-color: #434B5C;\n",
              "      box-shadow: 0px 1px 3px 1px rgba(0, 0, 0, 0.15);\n",
              "      filter: drop-shadow(0px 1px 2px rgba(0, 0, 0, 0.3));\n",
              "      fill: #FFFFFF;\n",
              "    }\n",
              "  </style>\n",
              "\n",
              "      <script>\n",
              "        const buttonEl =\n",
              "          document.querySelector('#df-1e064677-f3bb-4824-864b-c483335a214d button.colab-df-convert');\n",
              "        buttonEl.style.display =\n",
              "          google.colab.kernel.accessAllowed ? 'block' : 'none';\n",
              "\n",
              "        async function convertToInteractive(key) {\n",
              "          const element = document.querySelector('#df-1e064677-f3bb-4824-864b-c483335a214d');\n",
              "          const dataTable =\n",
              "            await google.colab.kernel.invokeFunction('convertToInteractive',\n",
              "                                                     [key], {});\n",
              "          if (!dataTable) return;\n",
              "\n",
              "          const docLinkHtml = 'Like what you see? Visit the ' +\n",
              "            '<a target=\"_blank\" href=https://colab.research.google.com/notebooks/data_table.ipynb>data table notebook</a>'\n",
              "            + ' to learn more about interactive tables.';\n",
              "          element.innerHTML = '';\n",
              "          dataTable['output_type'] = 'display_data';\n",
              "          await google.colab.output.renderOutput(dataTable, element);\n",
              "          const docLink = document.createElement('div');\n",
              "          docLink.innerHTML = docLinkHtml;\n",
              "          element.appendChild(docLink);\n",
              "        }\n",
              "      </script>\n",
              "    </div>\n",
              "  </div>\n",
              "  "
            ],
            "text/plain": [
              "              Place  ProductId    ProductName  UmId UmName  Month  Year   Price\n",
              "0  National Average         52  Rice - Retail     5     KG      5  2013  4.4920\n",
              "1  National Average         52  Rice - Retail     5     KG      6  2013  4.5786\n",
              "2  National Average         52  Rice - Retail     5     KG     11  2013  4.7865\n",
              "3  National Average         52  Rice - Retail     5     KG     12  2013  5.1337\n",
              "4  National Average         52  Rice - Retail     5     KG      1  2014  5.5099"
            ]
          },
          "metadata": {},
          "execution_count": 136
        }
      ]
    },
    {
      "cell_type": "code",
      "source": [
        "df.info()"
      ],
      "metadata": {
        "colab": {
          "base_uri": "https://localhost:8080/"
        },
        "id": "N11FVGvmwmQj",
        "outputId": "1b138d6c-3006-496f-deba-dcb0fdb222ce"
      },
      "execution_count": null,
      "outputs": [
        {
          "output_type": "stream",
          "name": "stdout",
          "text": [
            "<class 'pandas.core.frame.DataFrame'>\n",
            "RangeIndex: 7381 entries, 0 to 7380\n",
            "Data columns (total 8 columns):\n",
            " #   Column       Non-Null Count  Dtype  \n",
            "---  ------       --------------  -----  \n",
            " 0   Place        7381 non-null   object \n",
            " 1   ProductId    7381 non-null   int64  \n",
            " 2   ProductName  7381 non-null   object \n",
            " 3   UmId         7381 non-null   int64  \n",
            " 4   UmName       7381 non-null   object \n",
            " 5   Month        7381 non-null   int64  \n",
            " 6   Year         7381 non-null   int64  \n",
            " 7   Price        7381 non-null   float64\n",
            "dtypes: float64(1), int64(4), object(3)\n",
            "memory usage: 461.4+ KB\n"
          ]
        }
      ]
    },
    {
      "cell_type": "markdown",
      "source": [
        "# 2. Vẽ các biểu đồ cột so sánh giá Milk (powder, infant formula) và Fuel (gas) tháng 12 cuối năm năm 2019 của Ankara, Istanbul, Izmir và National Average."
      ],
      "metadata": {
        "id": "09N3--6hxJE6"
      }
    },
    {
      "cell_type": "code",
      "source": [
        "df.ProductName.unique()"
      ],
      "metadata": {
        "colab": {
          "base_uri": "https://localhost:8080/"
        },
        "id": "k4-YLx29lnPB",
        "outputId": "5ab22eb1-f0ef-4c50-b2c8-2dd4a1a637d6"
      },
      "execution_count": null,
      "outputs": [
        {
          "output_type": "execute_result",
          "data": {
            "text/plain": [
              "array(['Rice - Retail', 'Wheat flour - Retail', 'Beans (white) - Retail',\n",
              "       'Potatoes - Retail', 'Eggs - Retail', 'Meat (chicken) - Retail',\n",
              "       'Sugar - Retail', 'Garlic - Retail', 'Lentils - Retail',\n",
              "       'Pasta - Retail', 'Tomatoes - Retail',\n",
              "       'Groundnuts (shelled) - Retail', 'Bread (common) - Retail',\n",
              "       'Coffee - Retail', 'Onions - Retail', 'Tea (green) - Retail',\n",
              "       'Cabbage - Retail', 'Meat (mutton) - Retail',\n",
              "       'Oil (sunflower) - Retail', 'Salt - Retail',\n",
              "       'Coffee (instant) - Retail', 'Peas (green, dry) - Retail',\n",
              "       'Apples (red) - Retail', 'Cauliflower - Retail',\n",
              "       'Cucumbers (greenhouse) - Retail', 'Oil (olive) - Retail',\n",
              "       'Chickpeas - Retail', 'Bananas - Retail', 'Bulgur - Retail',\n",
              "       'Tea - Retail', 'Fuel (petrol-gasoline) - Retail',\n",
              "       'Transport (public) - Retail', 'Tomatoes (paste) - Retail',\n",
              "       'Fuel (gas) - Retail', 'Apples - Retail', 'Oranges - Retail',\n",
              "       'Yogurt - Retail', 'Bread (pita) - Retail', 'Cucumbers - Retail',\n",
              "       'Fish (fresh) - Retail', 'Spinach - Retail', 'Cheese - Retail',\n",
              "       'Meat (veal) - Retail', 'Eggplants - Retail',\n",
              "       'Milk (powder, infant formula) - Retail', 'Zucchini - Retail',\n",
              "       'Milk (pasteurized) - Retail',\n",
              "       'Wage (non-qualified labour, non-agricultural) - Retail',\n",
              "       'Electricity - Retail', 'Tea (herbal) - Retail', 'Water - Retail',\n",
              "       'Cocoa (powder) - Retail'], dtype=object)"
            ]
          },
          "metadata": {},
          "execution_count": 138
        }
      ]
    },
    {
      "cell_type": "code",
      "source": [
        "# Lọc ra dữ liệu chỉ chứa giá Milk tháng 12/2019 của tất cả các khu vực\n",
        "condition_1 = (df.ProductName == \"Milk (powder, infant formula) - Retail\") & (df.Month == 12) & (df.Year == 2019)\n",
        "temp_1 = df[condition_1]\n",
        "temp_1.reset_index(inplace = True)"
      ],
      "metadata": {
        "id": "Dm4F_OO8w-_S"
      },
      "execution_count": null,
      "outputs": []
    },
    {
      "cell_type": "code",
      "source": [
        "# Lọc ra dữ liệu chỉ chứa giá Gas tháng 12/2019 của tất cả các khu vực\n",
        "condition_2 = (df.ProductName == \"Fuel (gas) - Retail\") & (df.Month == 12) & (df.Year == 2019)\n",
        "temp_2 = df[condition_2]\n",
        "temp_2.reset_index(inplace = True)"
      ],
      "metadata": {
        "id": "SSB2nXg6mbQO"
      },
      "execution_count": null,
      "outputs": []
    },
    {
      "cell_type": "code",
      "source": [
        "# Lấy dữ liệu cần thiết cho mục tiêu\n",
        "df2 = pd.DataFrame({\"x\": temp_1.Place,\n",
        "                    \"y1\": temp_1.Price,\n",
        "                    \"y2\": temp_2.Price})"
      ],
      "metadata": {
        "id": "I8gGrIA7m05s"
      },
      "execution_count": null,
      "outputs": []
    },
    {
      "cell_type": "code",
      "source": [
        "# Vẽ biểu đồ\n",
        "plt.figure(figsize = (18,8), dpi = 100)\n",
        "df2.plot(x = \"x\", y = [\"y1\", \"y2\"], kind = \"bar\")\n",
        "plt.title(\"Biểu đồ so sánh giá sữa và giá gas tháng 12/2019 ở tất cả khu vực\", fontsize = 20)\n",
        "plt.xlabel(\"Khu vực\", fontsize = 14)\n",
        "plt.ylabel(\"Giá\", fontsize = 14)\n",
        "plt.legend(labels = [\"Milk\", \"Gas\"])\n",
        "plt.show()"
      ],
      "metadata": {
        "colab": {
          "base_uri": "https://localhost:8080/",
          "height": 400
        },
        "id": "8ejmRtuTnUED",
        "outputId": "35df85ec-2528-4d4f-bcf9-fd726550a7a7"
      },
      "execution_count": null,
      "outputs": [
        {
          "output_type": "display_data",
          "data": {
            "text/plain": [
              "<Figure size 1800x800 with 0 Axes>"
            ]
          },
          "metadata": {}
        },
        {
          "output_type": "display_data",
          "data": {
            "image/png": "[encoded data removed]",
            "text/plain": [
              "<Figure size 432x288 with 1 Axes>"
            ]
          },
          "metadata": {
            "needs_background": "light"
          }
        }
      ]
    },
    {
      "cell_type": "markdown",
      "source": [
        "# 3. Vẽ các biểu đồ sau\n",
        "- Vẽ các biểu đồ đường phân tích xu hướng giá gạo (Rice-Retail), giá Fuel (gas) trung bình cả nước (National Average) trong năm 2016, 2018, 2019 tại Thổ Nhĩ Kì.\n",
        "- Vẽ biểu đồ Scatter phân tích mối liên quan giữa giá gạo và giá gas trung bình quốc gia (National Average) tại Thổ Nhĩ Kì các năm 2016, 2018, 2019"
      ],
      "metadata": {
        "id": "wBg75BMXqzGe"
      }
    },
    {
      "cell_type": "code",
      "source": [
        "df.ProductName.unique()"
      ],
      "metadata": {
        "colab": {
          "base_uri": "https://localhost:8080/"
        },
        "id": "W2RQYU42rq_W",
        "outputId": "66777d94-8618-499f-bb27-b78c27f63a2d"
      },
      "execution_count": null,
      "outputs": [
        {
          "output_type": "execute_result",
          "data": {
            "text/plain": [
              "array(['Rice - Retail', 'Wheat flour - Retail', 'Beans (white) - Retail',\n",
              "       'Potatoes - Retail', 'Eggs - Retail', 'Meat (chicken) - Retail',\n",
              "       'Sugar - Retail', 'Garlic - Retail', 'Lentils - Retail',\n",
              "       'Pasta - Retail', 'Tomatoes - Retail',\n",
              "       'Groundnuts (shelled) - Retail', 'Bread (common) - Retail',\n",
              "       'Coffee - Retail', 'Onions - Retail', 'Tea (green) - Retail',\n",
              "       'Cabbage - Retail', 'Meat (mutton) - Retail',\n",
              "       'Oil (sunflower) - Retail', 'Salt - Retail',\n",
              "       'Coffee (instant) - Retail', 'Peas (green, dry) - Retail',\n",
              "       'Apples (red) - Retail', 'Cauliflower - Retail',\n",
              "       'Cucumbers (greenhouse) - Retail', 'Oil (olive) - Retail',\n",
              "       'Chickpeas - Retail', 'Bananas - Retail', 'Bulgur - Retail',\n",
              "       'Tea - Retail', 'Fuel (petrol-gasoline) - Retail',\n",
              "       'Transport (public) - Retail', 'Tomatoes (paste) - Retail',\n",
              "       'Fuel (gas) - Retail', 'Apples - Retail', 'Oranges - Retail',\n",
              "       'Yogurt - Retail', 'Bread (pita) - Retail', 'Cucumbers - Retail',\n",
              "       'Fish (fresh) - Retail', 'Spinach - Retail', 'Cheese - Retail',\n",
              "       'Meat (veal) - Retail', 'Eggplants - Retail',\n",
              "       'Milk (powder, infant formula) - Retail', 'Zucchini - Retail',\n",
              "       'Milk (pasteurized) - Retail',\n",
              "       'Wage (non-qualified labour, non-agricultural) - Retail',\n",
              "       'Electricity - Retail', 'Tea (herbal) - Retail', 'Water - Retail',\n",
              "       'Cocoa (powder) - Retail'], dtype=object)"
            ]
          },
          "metadata": {},
          "execution_count": 143
        }
      ]
    },
    {
      "cell_type": "code",
      "source": [
        "# Lấy ra dữ liệu chỉ chứa giá gạo năm 2016 ở trung bình quốc gia\n",
        "condition_1 = (df.ProductName == \"Rice - Retail\") & (df.Year == 2016) & (df.Place == \"National Average\")\n",
        "temp_1 = df[condition_1]\n",
        "temp_1.reset_index(inplace = True)"
      ],
      "metadata": {
        "id": "zU03ntF2rRgX"
      },
      "execution_count": null,
      "outputs": []
    },
    {
      "cell_type": "code",
      "source": [
        "# Lấy ra dữ liệu chỉ chứa giá gạo năm 2018 ở trung bình quốc gia\n",
        "condition_2 = (df.ProductName == \"Rice - Retail\") & (df.Year == 2018) & (df.Place == \"National Average\")\n",
        "temp_2 = df[condition_2]\n",
        "temp_2.reset_index(inplace = True)"
      ],
      "metadata": {
        "id": "HW_WTNK3sLvC"
      },
      "execution_count": null,
      "outputs": []
    },
    {
      "cell_type": "code",
      "source": [
        "# Lấy ra dữ liệu chỉ chứa giá gạo năm 2019 ở trung bình quốc gia\n",
        "condition_3 = (df.ProductName == \"Rice - Retail\") & (df.Year == 2019) & (df.Place == \"National Average\")\n",
        "temp_3 = df[condition_3]\n",
        "temp_3.reset_index(inplace = True)"
      ],
      "metadata": {
        "id": "6nbD1fDosZAx"
      },
      "execution_count": null,
      "outputs": []
    },
    {
      "cell_type": "code",
      "source": [
        "# Lấy ra dữ liệu chỉ chứa giá xăng năm 2016 ở trung bình quốc gia\n",
        "condition_4 = (df.ProductName == \"Fuel (gas) - Retail\") & (df.Year == 2016) & (df.Place == \"National Average\")\n",
        "temp_4 = df[condition_4]\n",
        "temp_4.reset_index(inplace = True)"
      ],
      "metadata": {
        "id": "qfXP3rdCsd9T"
      },
      "execution_count": null,
      "outputs": []
    },
    {
      "cell_type": "code",
      "source": [
        "# Lấy ra dữ liệu chỉ chứa giá xăng năm 2018 ở trung bình quốc gia\n",
        "condition_5 = (df.ProductName == \"Fuel (gas) - Retail\") & (df.Year == 2018) & (df.Place == \"National Average\")\n",
        "temp_5 = df[condition_5]\n",
        "temp_5.reset_index(inplace = True)"
      ],
      "metadata": {
        "id": "oyrs8DpNstdM"
      },
      "execution_count": null,
      "outputs": []
    },
    {
      "cell_type": "code",
      "source": [
        "# Lấy ra dữ liệu chỉ chứa giá xăng năm 2019 ở trung bình quốc gia\n",
        "condition_6 = (df.ProductName == \"Fuel (gas) - Retail\") & (df.Year == 2019) & (df.Place == \"National Average\")\n",
        "temp_6 = df[condition_6]\n",
        "temp_6.reset_index(inplace = True)"
      ],
      "metadata": {
        "id": "NbNL86HSsygM"
      },
      "execution_count": null,
      "outputs": []
    },
    {
      "cell_type": "code",
      "source": [
        "# Chia màn hình vẽ thành 3 khoảng\n",
        "fig, ax = plt.subplots(3)\n",
        "\n",
        "# Vẽ biểu đồ đường phân tích xu hướng giá gạo và giá gas năm 2016\n",
        "ax[0].plot(temp_1.Month, temp_1.Price, marker = \"*\")\n",
        "ax[0].plot(temp_4.Month, temp_4.Price, marker = \"s\")\n",
        "ax[0].set_ylabel(\"Price\")\n",
        "ax[0].set_title(\"2016\")\n",
        "\n",
        "# Vẽ biểu đồ đường phân tích xu hướng giá gạo và giá gas năm 2018\n",
        "ax[1].plot(temp_2.Month, temp_2.Price, marker = \"*\")\n",
        "ax[1].plot(temp_5.Month, temp_5.Price, marker = \"s\")\n",
        "ax[1].set_ylabel(\"Price\")\n",
        "ax[1].set_title(\"2018\")\n",
        "\n",
        "# Vẽ biểu đồ đường phân tích xu hướng giá gạo và giá gas năm 2019\n",
        "ax[2].plot(temp_3.Month, temp_3.Price, marker = \"*\", label = \"Milk\")\n",
        "ax[2].plot(temp_6.Month, temp_6.Price, marker = \"s\", label = \"Gas\")\n",
        "ax[2].set_ylabel(\"Price\")\n",
        "ax[2].set_xlabel(\"Month\")\n",
        "ax[2].legend()\n",
        "ax[2].set_title(\"2019\")\n",
        "\n",
        "plt.show()"
      ],
      "metadata": {
        "colab": {
          "base_uri": "https://localhost:8080/",
          "height": 295
        },
        "id": "yvKqgF2rIR0A",
        "outputId": "bb9414a1-8529-473b-9b47-bee25680daad"
      },
      "execution_count": null,
      "outputs": [
        {
          "output_type": "display_data",
          "data": {
            "image/png": "[encoded data removed]",
            "text/plain": [
              "<Figure size 432x288 with 3 Axes>"
            ]
          },
          "metadata": {
            "needs_background": "light"
          }
        }
      ]
    },
    {
      "cell_type": "code",
      "source": [
        "# Chia màn hình vẽ thành 3 khoảng\n",
        "fig, ax = plt.subplots(3)\n",
        "\n",
        "# Vẽ biểu đồ scatter phân tích mối liên hệ giữa giá gạo và giá gas năm 2016\n",
        "ax[0].scatter(temp_1.Price, temp_4.Price, marker = \"*\")\n",
        "ax[0].set_ylabel(\"Gas Price\")\n",
        "ax[0].set_title(\"2016\")\n",
        "\n",
        "# Vẽ biểu đồ scatter phân tích mối liên hệ giữa giá gạo và giá gas năm 2018\n",
        "ax[1].scatter(temp_2.Price, temp_5.Price, marker = \"*\")\n",
        "ax[1].set_ylabel(\"Gas Price\")\n",
        "ax[1].set_title(\"2018\")\n",
        "\n",
        "# Vẽ biểu đồ scatter phân tích mối liên hệ giữa giá gạo và giá gas năm 2016\n",
        "ax[2].scatter(temp_3.Price, temp_6.Price, marker = \"*\")\n",
        "ax[2].set_ylabel(\"Gas Price\")\n",
        "ax[2].set_xlabel(\"Rice Price\")\n",
        "ax[2].set_title(\"2019\")\n",
        "\n",
        "plt.show()"
      ],
      "metadata": {
        "colab": {
          "base_uri": "https://localhost:8080/",
          "height": 295
        },
        "id": "Z2LRHeXGNncN",
        "outputId": "a4009e78-f6c5-45a0-ec21-4c2b71e999a6"
      },
      "execution_count": null,
      "outputs": [
        {
          "output_type": "display_data",
          "data": {
            "image/png": "[encoded data removed]",
            "text/plain": [
              "<Figure size 432x288 with 3 Axes>"
            ]
          },
          "metadata": {
            "needs_background": "light"
          }
        }
      ]
    }
  ]
}